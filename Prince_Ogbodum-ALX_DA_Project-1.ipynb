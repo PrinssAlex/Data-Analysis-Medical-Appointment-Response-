{
 "cells": [
  {
   "cell_type": "markdown",
   "id": "e3532fcd",
   "metadata": {},
   "source": [
    "# Project:  Reasons Behind Failed Medical Appointments ( Case Study: Brazilian Patients)\n",
    "\n",
    "**Table of Contents:**\n",
    "<ul>\n",
    "    <li><a href='#introduction'> Introduction </a></li>\n",
    "    <li><a href='#data wrangling'> Data Wrangling </a></li>\n",
    "    <li><a href='#eda'> Exploratory Data Analysis </a></li>\n",
    "    <li><a href='#conclusion'> Conclusions </a></li>\n",
    "    </ul>\n"
   ]
  },
  {
   "cell_type": "markdown",
   "id": "4a359f1e",
   "metadata": {},
   "source": [
    "<a id='introduction'></a>\n",
    "\n",
    "# INTRODUCTION\n",
    "\n",
    "> **Name of Dataset:** Medical Appointments No Shows </br>\n",
    "> **Dataset Source:** [Kaggle](https://d17h27t6h515a5.cloudfront.net/topher/2017/October/59dd2e9a_noshowappointments-kagglev2-may-2016/noshowappointments-kagglev2-may-2016.csv.) </br>\n",
    "> **Description of Dataset:**   </br>\n",
    "This dataset collects information from over 100k medical appointments in Brazil and is focused on the question of whether or not patients show up for their appointment and the associated characteristics of each patient.\n",
    "> **Variable (Column) Information:** </br>\n",
    "> Fourteen (14) columns in this data set: </br>\n",
    "> <ol>\n",
    "    <li> PatientId: Identification of the patient.\n",
    "    <li> AppointmentID: Identification of each appointment.\n",
    "    <li> Gender: The gender of the patient whether male or female.\n",
    "    <li> ScheduledDay: Tells us on what day the patient set up their appointment.\n",
    "    <li> AppointmentDay: The day of the actual appointment, when they have to visit the doctor.\n",
    "    <li> Age: The age of the patient.\n",
    "    <li> Neighbourhood: Location of the \n",
    "    <li> Scholarship: indicates whether or not the patient is enrolled in Brasilian welfare program - Bolsa Família.\n",
    "    <li> Hipertension: Indicates whether the patient has Hypertension or not.\n",
    "    <li> Diabetes: Indicates whether the patient has Diabetes or not.\n",
    "    <li> Alcoholism: Indicates whether the patient is alcoholic or not.\n",
    "    <li> Handcap: Indicates whether the patient is handicap or not.\n",
    "    <li> SMS_received: Indicates whether the patient received a text message reminder or not.\n",
    "    <li> No-show: Indicates whether the patient showed up for their appointment or not.\n",
    " </ol> \n",
    "&nbsp &nbsp &nbsp <b>Rationale:</b> Some of the column names were spelt wrongly, needs to be renamed with uniform casing.\n",
    "\n",
    "### <u> Analysis Questions: </u>\n",
    "> Which age group were more responsive to their medical appointments? What were the likely factors that contributed to this? <br> <ul>\n",
    "> <b>Additional questions:</b>\n",
    "> <ul> <li> What illnesses were they mostly suffering from? </li>\n",
    "    <li> Was it because they received test messages? </li>\n",
    "    <li> Was their enrollment in the scholarship a contributing factor to their responsiveness? </li> </ul>\n",
    "    \n"
   ]
  },
  {
   "cell_type": "code",
   "execution_count": 64,
   "id": "46fc7e2c",
   "metadata": {},
   "outputs": [],
   "source": [
    "# needed modules\n",
    "import pandas as pd\n",
    "import numpy as np\n",
    "import matplotlib.pyplot as plt\n",
    "import seaborn as sns\n",
    "%matplotlib inline\n"
   ]
  },
  {
   "cell_type": "markdown",
   "id": "70b31ef9",
   "metadata": {},
   "source": [
    "<a id='data wrangling'></a>\n",
    "\n",
    "# DATA WRANGLING"
   ]
  },
  {
   "cell_type": "code",
   "execution_count": 65,
   "id": "2d30c3aa",
   "metadata": {},
   "outputs": [
    {
     "data": {
      "text/html": [
       "<div>\n",
       "<style scoped>\n",
       "    .dataframe tbody tr th:only-of-type {\n",
       "        vertical-align: middle;\n",
       "    }\n",
       "\n",
       "    .dataframe tbody tr th {\n",
       "        vertical-align: top;\n",
       "    }\n",
       "\n",
       "    .dataframe thead th {\n",
       "        text-align: right;\n",
       "    }\n",
       "</style>\n",
       "<table border=\"1\" class=\"dataframe\">\n",
       "  <thead>\n",
       "    <tr style=\"text-align: right;\">\n",
       "      <th></th>\n",
       "      <th>PatientId</th>\n",
       "      <th>AppointmentID</th>\n",
       "      <th>Gender</th>\n",
       "      <th>ScheduledDay</th>\n",
       "      <th>AppointmentDay</th>\n",
       "      <th>Age</th>\n",
       "      <th>Neighbourhood</th>\n",
       "      <th>Scholarship</th>\n",
       "      <th>Hipertension</th>\n",
       "      <th>Diabetes</th>\n",
       "      <th>Alcoholism</th>\n",
       "      <th>Handcap</th>\n",
       "      <th>SMS_received</th>\n",
       "      <th>No-show</th>\n",
       "    </tr>\n",
       "  </thead>\n",
       "  <tbody>\n",
       "    <tr>\n",
       "      <th>0</th>\n",
       "      <td>2.987250e+13</td>\n",
       "      <td>5642903</td>\n",
       "      <td>F</td>\n",
       "      <td>2016-04-29T18:38:08Z</td>\n",
       "      <td>2016-04-29T00:00:00Z</td>\n",
       "      <td>62</td>\n",
       "      <td>JARDIM DA PENHA</td>\n",
       "      <td>0</td>\n",
       "      <td>1</td>\n",
       "      <td>0</td>\n",
       "      <td>0</td>\n",
       "      <td>0</td>\n",
       "      <td>0</td>\n",
       "      <td>No</td>\n",
       "    </tr>\n",
       "    <tr>\n",
       "      <th>1</th>\n",
       "      <td>5.589978e+14</td>\n",
       "      <td>5642503</td>\n",
       "      <td>M</td>\n",
       "      <td>2016-04-29T16:08:27Z</td>\n",
       "      <td>2016-04-29T00:00:00Z</td>\n",
       "      <td>56</td>\n",
       "      <td>JARDIM DA PENHA</td>\n",
       "      <td>0</td>\n",
       "      <td>0</td>\n",
       "      <td>0</td>\n",
       "      <td>0</td>\n",
       "      <td>0</td>\n",
       "      <td>0</td>\n",
       "      <td>No</td>\n",
       "    </tr>\n",
       "    <tr>\n",
       "      <th>2</th>\n",
       "      <td>4.262962e+12</td>\n",
       "      <td>5642549</td>\n",
       "      <td>F</td>\n",
       "      <td>2016-04-29T16:19:04Z</td>\n",
       "      <td>2016-04-29T00:00:00Z</td>\n",
       "      <td>62</td>\n",
       "      <td>MATA DA PRAIA</td>\n",
       "      <td>0</td>\n",
       "      <td>0</td>\n",
       "      <td>0</td>\n",
       "      <td>0</td>\n",
       "      <td>0</td>\n",
       "      <td>0</td>\n",
       "      <td>No</td>\n",
       "    </tr>\n",
       "    <tr>\n",
       "      <th>3</th>\n",
       "      <td>8.679512e+11</td>\n",
       "      <td>5642828</td>\n",
       "      <td>F</td>\n",
       "      <td>2016-04-29T17:29:31Z</td>\n",
       "      <td>2016-04-29T00:00:00Z</td>\n",
       "      <td>8</td>\n",
       "      <td>PONTAL DE CAMBURI</td>\n",
       "      <td>0</td>\n",
       "      <td>0</td>\n",
       "      <td>0</td>\n",
       "      <td>0</td>\n",
       "      <td>0</td>\n",
       "      <td>0</td>\n",
       "      <td>No</td>\n",
       "    </tr>\n",
       "    <tr>\n",
       "      <th>4</th>\n",
       "      <td>8.841186e+12</td>\n",
       "      <td>5642494</td>\n",
       "      <td>F</td>\n",
       "      <td>2016-04-29T16:07:23Z</td>\n",
       "      <td>2016-04-29T00:00:00Z</td>\n",
       "      <td>56</td>\n",
       "      <td>JARDIM DA PENHA</td>\n",
       "      <td>0</td>\n",
       "      <td>1</td>\n",
       "      <td>1</td>\n",
       "      <td>0</td>\n",
       "      <td>0</td>\n",
       "      <td>0</td>\n",
       "      <td>No</td>\n",
       "    </tr>\n",
       "  </tbody>\n",
       "</table>\n",
       "</div>"
      ],
      "text/plain": [
       "      PatientId  AppointmentID Gender          ScheduledDay  \\\n",
       "0  2.987250e+13        5642903      F  2016-04-29T18:38:08Z   \n",
       "1  5.589978e+14        5642503      M  2016-04-29T16:08:27Z   \n",
       "2  4.262962e+12        5642549      F  2016-04-29T16:19:04Z   \n",
       "3  8.679512e+11        5642828      F  2016-04-29T17:29:31Z   \n",
       "4  8.841186e+12        5642494      F  2016-04-29T16:07:23Z   \n",
       "\n",
       "         AppointmentDay  Age      Neighbourhood  Scholarship  Hipertension  \\\n",
       "0  2016-04-29T00:00:00Z   62    JARDIM DA PENHA            0             1   \n",
       "1  2016-04-29T00:00:00Z   56    JARDIM DA PENHA            0             0   \n",
       "2  2016-04-29T00:00:00Z   62      MATA DA PRAIA            0             0   \n",
       "3  2016-04-29T00:00:00Z    8  PONTAL DE CAMBURI            0             0   \n",
       "4  2016-04-29T00:00:00Z   56    JARDIM DA PENHA            0             1   \n",
       "\n",
       "   Diabetes  Alcoholism  Handcap  SMS_received No-show  \n",
       "0         0           0        0             0      No  \n",
       "1         0           0        0             0      No  \n",
       "2         0           0        0             0      No  \n",
       "3         0           0        0             0      No  \n",
       "4         1           0        0             0      No  "
      ]
     },
     "execution_count": 65,
     "metadata": {},
     "output_type": "execute_result"
    }
   ],
   "source": [
    "# read in data set\n",
    "df = pd.read_csv('noshow.csv')\n",
    "\n",
    "# preview of the first five (5) records of the data set\n",
    "df.head()"
   ]
  },
  {
   "cell_type": "markdown",
   "id": "95ed7cdc",
   "metadata": {},
   "source": [
    "### Data Assessment:\n",
    "<b>i. Overall property of the dataset:</b>\n"
   ]
  },
  {
   "cell_type": "code",
   "execution_count": 66,
   "id": "8615d2ae",
   "metadata": {},
   "outputs": [
    {
     "name": "stdout",
     "output_type": "stream",
     "text": [
      "<class 'pandas.core.frame.DataFrame'>\n",
      "RangeIndex: 110527 entries, 0 to 110526\n",
      "Data columns (total 14 columns):\n",
      " #   Column          Non-Null Count   Dtype  \n",
      "---  ------          --------------   -----  \n",
      " 0   PatientId       110527 non-null  float64\n",
      " 1   AppointmentID   110527 non-null  int64  \n",
      " 2   Gender          110527 non-null  object \n",
      " 3   ScheduledDay    110527 non-null  object \n",
      " 4   AppointmentDay  110527 non-null  object \n",
      " 5   Age             110527 non-null  int64  \n",
      " 6   Neighbourhood   110527 non-null  object \n",
      " 7   Scholarship     110527 non-null  int64  \n",
      " 8   Hipertension    110527 non-null  int64  \n",
      " 9   Diabetes        110527 non-null  int64  \n",
      " 10  Alcoholism      110527 non-null  int64  \n",
      " 11  Handcap         110527 non-null  int64  \n",
      " 12  SMS_received    110527 non-null  int64  \n",
      " 13  No-show         110527 non-null  object \n",
      "dtypes: float64(1), int64(8), object(5)\n",
      "memory usage: 11.8+ MB\n"
     ]
    }
   ],
   "source": [
    "df.info()"
   ]
  },
  {
   "cell_type": "code",
   "execution_count": 67,
   "id": "65911681",
   "metadata": {},
   "outputs": [
    {
     "data": {
      "text/plain": [
       "(110527, 14)"
      ]
     },
     "execution_count": 67,
     "metadata": {},
     "output_type": "execute_result"
    }
   ],
   "source": [
    "# get the dimension of the dataframe to compare with the number of rows and columns of the dataset\n",
    "df.shape"
   ]
  },
  {
   "cell_type": "markdown",
   "id": "4548c9b3",
   "metadata": {},
   "source": [
    "<b>Rationale:</b> \n",
    "<ul> <li>The dataframe have 110527 rows which is consistent with the number of records contained in the dataset. As such, there are no missing value(s).</li>\n",
    "        <li>The preview of the dataset shows that the AppointmentDay and ScheduledDay both have date-type records. However, the <i> info() </i> preview shows that they actually have <i>object</i> datatype. This might need to be fixed if we decide to perform some aggregation on these columns.</li>\n",
    "        <li>There are no null values.</li>\n",
    "    <li>No-show column contains <i>object</i> datatypes. This will be left as it is except otherwise. Since it would only be used for categorical visualization.</li> </ul>"
   ]
  },
  {
   "cell_type": "markdown",
   "id": "379a95a9",
   "metadata": {},
   "source": [
    " <b> ii. Summary Statistics</b> "
   ]
  },
  {
   "cell_type": "code",
   "execution_count": 68,
   "id": "ba742856",
   "metadata": {},
   "outputs": [
    {
     "data": {
      "text/html": [
       "<div>\n",
       "<style scoped>\n",
       "    .dataframe tbody tr th:only-of-type {\n",
       "        vertical-align: middle;\n",
       "    }\n",
       "\n",
       "    .dataframe tbody tr th {\n",
       "        vertical-align: top;\n",
       "    }\n",
       "\n",
       "    .dataframe thead th {\n",
       "        text-align: right;\n",
       "    }\n",
       "</style>\n",
       "<table border=\"1\" class=\"dataframe\">\n",
       "  <thead>\n",
       "    <tr style=\"text-align: right;\">\n",
       "      <th></th>\n",
       "      <th>PatientId</th>\n",
       "      <th>AppointmentID</th>\n",
       "      <th>Age</th>\n",
       "      <th>Scholarship</th>\n",
       "      <th>Hipertension</th>\n",
       "      <th>Diabetes</th>\n",
       "      <th>Alcoholism</th>\n",
       "      <th>Handcap</th>\n",
       "      <th>SMS_received</th>\n",
       "    </tr>\n",
       "  </thead>\n",
       "  <tbody>\n",
       "    <tr>\n",
       "      <th>count</th>\n",
       "      <td>1.105270e+05</td>\n",
       "      <td>1.105270e+05</td>\n",
       "      <td>110527.000000</td>\n",
       "      <td>110527.000000</td>\n",
       "      <td>110527.000000</td>\n",
       "      <td>110527.000000</td>\n",
       "      <td>110527.000000</td>\n",
       "      <td>110527.000000</td>\n",
       "      <td>110527.000000</td>\n",
       "    </tr>\n",
       "    <tr>\n",
       "      <th>mean</th>\n",
       "      <td>1.474963e+14</td>\n",
       "      <td>5.675305e+06</td>\n",
       "      <td>37.088874</td>\n",
       "      <td>0.098266</td>\n",
       "      <td>0.197246</td>\n",
       "      <td>0.071865</td>\n",
       "      <td>0.030400</td>\n",
       "      <td>0.022248</td>\n",
       "      <td>0.321026</td>\n",
       "    </tr>\n",
       "    <tr>\n",
       "      <th>std</th>\n",
       "      <td>2.560949e+14</td>\n",
       "      <td>7.129575e+04</td>\n",
       "      <td>23.110205</td>\n",
       "      <td>0.297675</td>\n",
       "      <td>0.397921</td>\n",
       "      <td>0.258265</td>\n",
       "      <td>0.171686</td>\n",
       "      <td>0.161543</td>\n",
       "      <td>0.466873</td>\n",
       "    </tr>\n",
       "    <tr>\n",
       "      <th>min</th>\n",
       "      <td>3.921784e+04</td>\n",
       "      <td>5.030230e+06</td>\n",
       "      <td>-1.000000</td>\n",
       "      <td>0.000000</td>\n",
       "      <td>0.000000</td>\n",
       "      <td>0.000000</td>\n",
       "      <td>0.000000</td>\n",
       "      <td>0.000000</td>\n",
       "      <td>0.000000</td>\n",
       "    </tr>\n",
       "    <tr>\n",
       "      <th>25%</th>\n",
       "      <td>4.172614e+12</td>\n",
       "      <td>5.640286e+06</td>\n",
       "      <td>18.000000</td>\n",
       "      <td>0.000000</td>\n",
       "      <td>0.000000</td>\n",
       "      <td>0.000000</td>\n",
       "      <td>0.000000</td>\n",
       "      <td>0.000000</td>\n",
       "      <td>0.000000</td>\n",
       "    </tr>\n",
       "    <tr>\n",
       "      <th>50%</th>\n",
       "      <td>3.173184e+13</td>\n",
       "      <td>5.680573e+06</td>\n",
       "      <td>37.000000</td>\n",
       "      <td>0.000000</td>\n",
       "      <td>0.000000</td>\n",
       "      <td>0.000000</td>\n",
       "      <td>0.000000</td>\n",
       "      <td>0.000000</td>\n",
       "      <td>0.000000</td>\n",
       "    </tr>\n",
       "    <tr>\n",
       "      <th>75%</th>\n",
       "      <td>9.439172e+13</td>\n",
       "      <td>5.725524e+06</td>\n",
       "      <td>55.000000</td>\n",
       "      <td>0.000000</td>\n",
       "      <td>0.000000</td>\n",
       "      <td>0.000000</td>\n",
       "      <td>0.000000</td>\n",
       "      <td>0.000000</td>\n",
       "      <td>1.000000</td>\n",
       "    </tr>\n",
       "    <tr>\n",
       "      <th>max</th>\n",
       "      <td>9.999816e+14</td>\n",
       "      <td>5.790484e+06</td>\n",
       "      <td>115.000000</td>\n",
       "      <td>1.000000</td>\n",
       "      <td>1.000000</td>\n",
       "      <td>1.000000</td>\n",
       "      <td>1.000000</td>\n",
       "      <td>4.000000</td>\n",
       "      <td>1.000000</td>\n",
       "    </tr>\n",
       "  </tbody>\n",
       "</table>\n",
       "</div>"
      ],
      "text/plain": [
       "          PatientId  AppointmentID            Age    Scholarship  \\\n",
       "count  1.105270e+05   1.105270e+05  110527.000000  110527.000000   \n",
       "mean   1.474963e+14   5.675305e+06      37.088874       0.098266   \n",
       "std    2.560949e+14   7.129575e+04      23.110205       0.297675   \n",
       "min    3.921784e+04   5.030230e+06      -1.000000       0.000000   \n",
       "25%    4.172614e+12   5.640286e+06      18.000000       0.000000   \n",
       "50%    3.173184e+13   5.680573e+06      37.000000       0.000000   \n",
       "75%    9.439172e+13   5.725524e+06      55.000000       0.000000   \n",
       "max    9.999816e+14   5.790484e+06     115.000000       1.000000   \n",
       "\n",
       "        Hipertension       Diabetes     Alcoholism        Handcap  \\\n",
       "count  110527.000000  110527.000000  110527.000000  110527.000000   \n",
       "mean        0.197246       0.071865       0.030400       0.022248   \n",
       "std         0.397921       0.258265       0.171686       0.161543   \n",
       "min         0.000000       0.000000       0.000000       0.000000   \n",
       "25%         0.000000       0.000000       0.000000       0.000000   \n",
       "50%         0.000000       0.000000       0.000000       0.000000   \n",
       "75%         0.000000       0.000000       0.000000       0.000000   \n",
       "max         1.000000       1.000000       1.000000       4.000000   \n",
       "\n",
       "        SMS_received  \n",
       "count  110527.000000  \n",
       "mean        0.321026  \n",
       "std         0.466873  \n",
       "min         0.000000  \n",
       "25%         0.000000  \n",
       "50%         0.000000  \n",
       "75%         1.000000  \n",
       "max         1.000000  "
      ]
     },
     "execution_count": 68,
     "metadata": {},
     "output_type": "execute_result"
    }
   ],
   "source": [
    "# aggregate preview of the dataset\n",
    "df.describe()\n"
   ]
  },
  {
   "cell_type": "code",
   "execution_count": 69,
   "id": "6afe95b6",
   "metadata": {},
   "outputs": [
    {
     "data": {
      "text/html": [
       "<div>\n",
       "<style scoped>\n",
       "    .dataframe tbody tr th:only-of-type {\n",
       "        vertical-align: middle;\n",
       "    }\n",
       "\n",
       "    .dataframe tbody tr th {\n",
       "        vertical-align: top;\n",
       "    }\n",
       "\n",
       "    .dataframe thead th {\n",
       "        text-align: right;\n",
       "    }\n",
       "</style>\n",
       "<table border=\"1\" class=\"dataframe\">\n",
       "  <thead>\n",
       "    <tr style=\"text-align: right;\">\n",
       "      <th></th>\n",
       "      <th>Handcap</th>\n",
       "    </tr>\n",
       "  </thead>\n",
       "  <tbody>\n",
       "    <tr>\n",
       "      <th>946</th>\n",
       "      <td>2</td>\n",
       "    </tr>\n",
       "    <tr>\n",
       "      <th>1665</th>\n",
       "      <td>2</td>\n",
       "    </tr>\n",
       "    <tr>\n",
       "      <th>1666</th>\n",
       "      <td>2</td>\n",
       "    </tr>\n",
       "    <tr>\n",
       "      <th>2071</th>\n",
       "      <td>2</td>\n",
       "    </tr>\n",
       "    <tr>\n",
       "      <th>2091</th>\n",
       "      <td>2</td>\n",
       "    </tr>\n",
       "  </tbody>\n",
       "</table>\n",
       "</div>"
      ],
      "text/plain": [
       "      Handcap\n",
       "946         2\n",
       "1665        2\n",
       "1666        2\n",
       "2071        2\n",
       "2091        2"
      ]
     },
     "execution_count": 69,
     "metadata": {},
     "output_type": "execute_result"
    }
   ],
   "source": [
    "#verify if the Handcap header entry is binary\n",
    "df_hc = df[df['Handcap'] > 1 ]\n",
    "df_hc.loc[:,['Handcap']].head()"
   ]
  },
  {
   "cell_type": "markdown",
   "id": "dd5be94a",
   "metadata": {},
   "source": [
    "Check if there are duplicate values"
   ]
  },
  {
   "cell_type": "code",
   "execution_count": 70,
   "id": "47ea5106",
   "metadata": {},
   "outputs": [
    {
     "data": {
      "text/plain": [
       "False"
      ]
     },
     "execution_count": 70,
     "metadata": {},
     "output_type": "execute_result"
    }
   ],
   "source": [
    "df.duplicated().any()"
   ]
  },
  {
   "cell_type": "markdown",
   "id": "a99e296c",
   "metadata": {},
   "source": [
    "Check the number of unique values (appointments made)"
   ]
  },
  {
   "cell_type": "code",
   "execution_count": 71,
   "id": "15c8a11a",
   "metadata": {},
   "outputs": [
    {
     "data": {
      "text/plain": [
       "PatientId          62299\n",
       "AppointmentID     110527\n",
       "Gender                 2\n",
       "ScheduledDay      103549\n",
       "AppointmentDay        27\n",
       "Age                  104\n",
       "Neighbourhood         81\n",
       "Scholarship            2\n",
       "Hipertension           2\n",
       "Diabetes               2\n",
       "Alcoholism             2\n",
       "Handcap                5\n",
       "SMS_received           2\n",
       "No-show                2\n",
       "dtype: int64"
      ]
     },
     "execution_count": 71,
     "metadata": {},
     "output_type": "execute_result"
    }
   ],
   "source": [
    "df.nunique()"
   ]
  },
  {
   "cell_type": "markdown",
   "id": "4d6ce56e",
   "metadata": {},
   "source": [
    "<b> Rationale: </b> \n",
    "<ul> <li>The age group captured were pre-dominantly adults between the age of 18 to 55. With an average of 37 years.</li>\n",
    "    <li>There seem to be some outlier(s) with the age records; a value of -1 can be seen from the above preview as the minimum age. This will be attended to during the data cleaning phase.</li>       <li>About 2% of the patients captured suffer from one form of handicap or the other.</li>\n",
    "    <li>The Handcap header seem to have records greater than 1. For simplicity, this will be resolved so that its records are strictly binary.</li>\n",
    "    <li>Over 40,000 appointments were made by patients who had already booked an appointment.</li> <li>At least two (2) patients were scheduled to meet the doctor on the same day. </li>\n",
    "    \n",
    " <b> Summary: </b>\n",
    "    - There are no missing records.\n",
    "    - There are some outliers.\n",
    "    - There are no null values.\n",
    "    - Data types needs to be fixed.\n",
    "    - Column names needs to be modified.\n",
    "    - Handcap records needs to be modified.\n",
    "    - Drop duplicate patient ID records."
   ]
  },
  {
   "cell_type": "markdown",
   "id": "1f98bc03",
   "metadata": {},
   "source": [
    "### Data Cleaning:\n",
    "<b>Objectives:</b>\n",
    "- Modify header names.\n",
    "- Fix outlier(s) in Age column.\n",
    "- Modifiy Handcap column records.\n",
    "- Drop duplicate records by the patient ID."
   ]
  },
  {
   "cell_type": "markdown",
   "id": "b7c0067b",
   "metadata": {},
   "source": [
    "<b>Modify column names:</b> To be all lowercase and of minimal letters, to aid easy typing (order of arrangement remains the same)."
   ]
  },
  {
   "cell_type": "code",
   "execution_count": 72,
   "id": "1ccf7e7b",
   "metadata": {},
   "outputs": [
    {
     "data": {
      "text/html": [
       "<div>\n",
       "<style scoped>\n",
       "    .dataframe tbody tr th:only-of-type {\n",
       "        vertical-align: middle;\n",
       "    }\n",
       "\n",
       "    .dataframe tbody tr th {\n",
       "        vertical-align: top;\n",
       "    }\n",
       "\n",
       "    .dataframe thead th {\n",
       "        text-align: right;\n",
       "    }\n",
       "</style>\n",
       "<table border=\"1\" class=\"dataframe\">\n",
       "  <thead>\n",
       "    <tr style=\"text-align: right;\">\n",
       "      <th></th>\n",
       "      <th>p-id</th>\n",
       "      <th>a-id</th>\n",
       "      <th>sex</th>\n",
       "      <th>s-day</th>\n",
       "      <th>a-day</th>\n",
       "      <th>age</th>\n",
       "      <th>h-loc</th>\n",
       "      <th>schlr</th>\n",
       "      <th>hpr</th>\n",
       "      <th>diab</th>\n",
       "      <th>alchl</th>\n",
       "      <th>hcap</th>\n",
       "      <th>sms</th>\n",
       "      <th>v-stat</th>\n",
       "    </tr>\n",
       "  </thead>\n",
       "  <tbody>\n",
       "    <tr>\n",
       "      <th>0</th>\n",
       "      <td>2.987250e+13</td>\n",
       "      <td>5642903</td>\n",
       "      <td>F</td>\n",
       "      <td>2016-04-29T18:38:08Z</td>\n",
       "      <td>2016-04-29T00:00:00Z</td>\n",
       "      <td>62</td>\n",
       "      <td>JARDIM DA PENHA</td>\n",
       "      <td>0</td>\n",
       "      <td>1</td>\n",
       "      <td>0</td>\n",
       "      <td>0</td>\n",
       "      <td>0</td>\n",
       "      <td>0</td>\n",
       "      <td>No</td>\n",
       "    </tr>\n",
       "  </tbody>\n",
       "</table>\n",
       "</div>"
      ],
      "text/plain": [
       "           p-id     a-id sex                 s-day                 a-day  age  \\\n",
       "0  2.987250e+13  5642903   F  2016-04-29T18:38:08Z  2016-04-29T00:00:00Z   62   \n",
       "\n",
       "             h-loc  schlr  hpr  diab  alchl  hcap  sms v-stat  \n",
       "0  JARDIM DA PENHA      0    1     0      0     0    0     No  "
      ]
     },
     "execution_count": 72,
     "metadata": {},
     "output_type": "execute_result"
    }
   ],
   "source": [
    "# change column names\n",
    "df.columns = ['p-id', 'a-id', 'sex', 's-day', 'a-day', 'age', 'h-loc', 'schlr', 'hpr', 'diab', 'alchl', 'hcap', 'sms', 'v-stat']\n",
    "# preview change\n",
    "df.head(1)"
   ]
  },
  {
   "cell_type": "markdown",
   "id": "db153bd3",
   "metadata": {},
   "source": [
    "<b> Fix <i>Age</i> column outlier(s) </b>"
   ]
  },
  {
   "cell_type": "code",
   "execution_count": 73,
   "id": "c248b6e7",
   "metadata": {},
   "outputs": [
    {
     "data": {
      "text/plain": [
       "99832   -1\n",
       "Name: age, dtype: int64"
      ]
     },
     "execution_count": 73,
     "metadata": {},
     "output_type": "execute_result"
    }
   ],
   "source": [
    "# check to see ages < 0 (zero)\n",
    "age_outliers = df[df.age < 0]\n",
    "age_outliers.age.head()"
   ]
  },
  {
   "cell_type": "markdown",
   "id": "9c6fb2af",
   "metadata": {},
   "source": [
    "There's only one (1) occurrence where age is less than zero. This is an insignificant count for an outlier. As such, the record will be drop."
   ]
  },
  {
   "cell_type": "code",
   "execution_count": 74,
   "id": "fb2e9f7b",
   "metadata": {},
   "outputs": [
    {
     "data": {
      "text/html": [
       "<div>\n",
       "<style scoped>\n",
       "    .dataframe tbody tr th:only-of-type {\n",
       "        vertical-align: middle;\n",
       "    }\n",
       "\n",
       "    .dataframe tbody tr th {\n",
       "        vertical-align: top;\n",
       "    }\n",
       "\n",
       "    .dataframe thead th {\n",
       "        text-align: right;\n",
       "    }\n",
       "</style>\n",
       "<table border=\"1\" class=\"dataframe\">\n",
       "  <thead>\n",
       "    <tr style=\"text-align: right;\">\n",
       "      <th></th>\n",
       "      <th>p-id</th>\n",
       "      <th>a-id</th>\n",
       "      <th>sex</th>\n",
       "      <th>s-day</th>\n",
       "      <th>a-day</th>\n",
       "      <th>age</th>\n",
       "      <th>h-loc</th>\n",
       "      <th>schlr</th>\n",
       "      <th>hpr</th>\n",
       "      <th>diab</th>\n",
       "      <th>alchl</th>\n",
       "      <th>hcap</th>\n",
       "      <th>sms</th>\n",
       "      <th>v-stat</th>\n",
       "    </tr>\n",
       "  </thead>\n",
       "  <tbody>\n",
       "    <tr>\n",
       "      <th>99830</th>\n",
       "      <td>7.216327e+14</td>\n",
       "      <td>5774220</td>\n",
       "      <td>M</td>\n",
       "      <td>2016-06-06T07:59:53Z</td>\n",
       "      <td>2016-06-06T00:00:00Z</td>\n",
       "      <td>1</td>\n",
       "      <td>ROMÃO</td>\n",
       "      <td>0</td>\n",
       "      <td>0</td>\n",
       "      <td>0</td>\n",
       "      <td>0</td>\n",
       "      <td>0</td>\n",
       "      <td>0</td>\n",
       "      <td>No</td>\n",
       "    </tr>\n",
       "    <tr>\n",
       "      <th>99831</th>\n",
       "      <td>9.825178e+13</td>\n",
       "      <td>5774337</td>\n",
       "      <td>M</td>\n",
       "      <td>2016-06-06T08:08:00Z</td>\n",
       "      <td>2016-06-06T00:00:00Z</td>\n",
       "      <td>7</td>\n",
       "      <td>CRUZAMENTO</td>\n",
       "      <td>0</td>\n",
       "      <td>0</td>\n",
       "      <td>0</td>\n",
       "      <td>0</td>\n",
       "      <td>0</td>\n",
       "      <td>0</td>\n",
       "      <td>No</td>\n",
       "    </tr>\n",
       "    <tr>\n",
       "      <th>99833</th>\n",
       "      <td>2.898271e+13</td>\n",
       "      <td>5774075</td>\n",
       "      <td>M</td>\n",
       "      <td>2016-06-06T07:50:27Z</td>\n",
       "      <td>2016-06-06T00:00:00Z</td>\n",
       "      <td>1</td>\n",
       "      <td>FORTE SÃO JOÃO</td>\n",
       "      <td>0</td>\n",
       "      <td>0</td>\n",
       "      <td>0</td>\n",
       "      <td>0</td>\n",
       "      <td>0</td>\n",
       "      <td>0</td>\n",
       "      <td>No</td>\n",
       "    </tr>\n",
       "    <tr>\n",
       "      <th>99834</th>\n",
       "      <td>9.276419e+14</td>\n",
       "      <td>5773979</td>\n",
       "      <td>F</td>\n",
       "      <td>2016-06-06T07:42:52Z</td>\n",
       "      <td>2016-06-06T00:00:00Z</td>\n",
       "      <td>0</td>\n",
       "      <td>ROMÃO</td>\n",
       "      <td>0</td>\n",
       "      <td>0</td>\n",
       "      <td>0</td>\n",
       "      <td>0</td>\n",
       "      <td>0</td>\n",
       "      <td>0</td>\n",
       "      <td>No</td>\n",
       "    </tr>\n",
       "    <tr>\n",
       "      <th>99835</th>\n",
       "      <td>3.456372e+14</td>\n",
       "      <td>5773464</td>\n",
       "      <td>F</td>\n",
       "      <td>2016-06-06T07:15:03Z</td>\n",
       "      <td>2016-06-06T00:00:00Z</td>\n",
       "      <td>1</td>\n",
       "      <td>GURIGICA</td>\n",
       "      <td>0</td>\n",
       "      <td>0</td>\n",
       "      <td>0</td>\n",
       "      <td>0</td>\n",
       "      <td>0</td>\n",
       "      <td>0</td>\n",
       "      <td>No</td>\n",
       "    </tr>\n",
       "  </tbody>\n",
       "</table>\n",
       "</div>"
      ],
      "text/plain": [
       "               p-id     a-id sex                 s-day                 a-day  \\\n",
       "99830  7.216327e+14  5774220   M  2016-06-06T07:59:53Z  2016-06-06T00:00:00Z   \n",
       "99831  9.825178e+13  5774337   M  2016-06-06T08:08:00Z  2016-06-06T00:00:00Z   \n",
       "99833  2.898271e+13  5774075   M  2016-06-06T07:50:27Z  2016-06-06T00:00:00Z   \n",
       "99834  9.276419e+14  5773979   F  2016-06-06T07:42:52Z  2016-06-06T00:00:00Z   \n",
       "99835  3.456372e+14  5773464   F  2016-06-06T07:15:03Z  2016-06-06T00:00:00Z   \n",
       "\n",
       "       age           h-loc  schlr  hpr  diab  alchl  hcap  sms v-stat  \n",
       "99830    1           ROMÃO      0    0     0      0     0    0     No  \n",
       "99831    7      CRUZAMENTO      0    0     0      0     0    0     No  \n",
       "99833    1  FORTE SÃO JOÃO      0    0     0      0     0    0     No  \n",
       "99834    0           ROMÃO      0    0     0      0     0    0     No  \n",
       "99835    1        GURIGICA      0    0     0      0     0    0     No  "
      ]
     },
     "execution_count": 74,
     "metadata": {},
     "output_type": "execute_result"
    }
   ],
   "source": [
    "# remove outlier row from the age column \n",
    "df = df[df['age'] >= 0]\n",
    "\n",
    "# confirm that row has been removed\n",
    "df.loc[99830:99835]"
   ]
  },
  {
   "cell_type": "markdown",
   "id": "a77ec27d",
   "metadata": {},
   "source": [
    "<b> Modify <i>Handcap</i> column </b>"
   ]
  },
  {
   "cell_type": "code",
   "execution_count": 75,
   "id": "a84e2fc8",
   "metadata": {},
   "outputs": [
    {
     "data": {
      "text/plain": [
       "2"
      ]
     },
     "execution_count": 75,
     "metadata": {},
     "output_type": "execute_result"
    }
   ],
   "source": [
    "# convert values greater than 1 to 1 in the handicap column via .mask() method\n",
    "df['hcap'].mask(df['hcap'] >= 1, 1, inplace=True)\n",
    "# confirmation\n",
    "df.hcap.nunique()"
   ]
  },
  {
   "cell_type": "markdown",
   "id": "bbd5bfe5",
   "metadata": {},
   "source": [
    "<b> Drop duplicate records from the Patient's ID column </b>"
   ]
  },
  {
   "cell_type": "code",
   "execution_count": 76,
   "id": "f908a63e",
   "metadata": {},
   "outputs": [
    {
     "data": {
      "text/plain": [
       "(62298, 14)"
      ]
     },
     "execution_count": 76,
     "metadata": {},
     "output_type": "execute_result"
    }
   ],
   "source": [
    "# drop duplicates by the patient's iD column\n",
    "df.drop_duplicates('p-id', inplace=True)\n",
    "# confirm\n",
    "df.shape"
   ]
  },
  {
   "cell_type": "markdown",
   "id": "d1ee42bf",
   "metadata": {},
   "source": [
    "<b>Summary:</b> I have modified the column names to all be lowercase and concise to help recall and type them easily. The negative values in the age column have been removed. The records of the handicap column have been modified to be binary (having only 1s and 0s), where 1, indicates that the patient was handicap and 0, they do not. Finally, I reduced the rows of the dataframe to match the number of unique patients that booked an appointment since the scope of this analysis will focus only on the age, illnesses, scholarship, sms and visits headers/columns."
   ]
  },
  {
   "cell_type": "markdown",
   "id": "6f59371f",
   "metadata": {},
   "source": [
    "<a id='eda'></a>\n",
    "\n",
    "# EXPLORATORY DATA ANALYSIS"
   ]
  },
  {
   "cell_type": "markdown",
   "id": "508444d2",
   "metadata": {},
   "source": [
    "<b>Questions To Answer:</b> <ul> <li>Which age group were more responsive to their appointments?</li>\n",
    "    <li>What illnesses were they most suffering from?</li>\n",
    "    <li>Was it because they received text message or not?</li>\n",
    "    <li>Was their enrollment in the scholarship a contributing factor to their responsives?</li>"
   ]
  },
  {
   "cell_type": "markdown",
   "id": "f30ea88a",
   "metadata": {},
   "source": [
    "#### Question 1: Which age group were more responsive to their appointments?"
   ]
  },
  {
   "cell_type": "markdown",
   "id": "20e46c32",
   "metadata": {},
   "source": [
    "First we create a new columnn for that indicates all the various classes of age groups:\n",
    "\n",
    "- Children: 0-14 years\n",
    "- Youths: 15-24 years\n",
    "- Adults: 25-64 years\n",
    "- Seniors: 64+\n",
    "\n",
    "\n",
    "<b>Sources:</b>[*Statistics Canada*](https://www.statcan.gc.ca/en/concepts/definitions/previous/age1a)"
   ]
  },
  {
   "cell_type": "code",
   "execution_count": 77,
   "id": "6e552a6d",
   "metadata": {},
   "outputs": [
    {
     "data": {
      "text/html": [
       "<div>\n",
       "<style scoped>\n",
       "    .dataframe tbody tr th:only-of-type {\n",
       "        vertical-align: middle;\n",
       "    }\n",
       "\n",
       "    .dataframe tbody tr th {\n",
       "        vertical-align: top;\n",
       "    }\n",
       "\n",
       "    .dataframe thead th {\n",
       "        text-align: right;\n",
       "    }\n",
       "</style>\n",
       "<table border=\"1\" class=\"dataframe\">\n",
       "  <thead>\n",
       "    <tr style=\"text-align: right;\">\n",
       "      <th></th>\n",
       "      <th>p-id</th>\n",
       "      <th>a-id</th>\n",
       "      <th>sex</th>\n",
       "      <th>s-day</th>\n",
       "      <th>a-day</th>\n",
       "      <th>age</th>\n",
       "      <th>h-loc</th>\n",
       "      <th>schlr</th>\n",
       "      <th>hpr</th>\n",
       "      <th>diab</th>\n",
       "      <th>alchl</th>\n",
       "      <th>hcap</th>\n",
       "      <th>sms</th>\n",
       "      <th>v-stat</th>\n",
       "      <th>age-grp</th>\n",
       "    </tr>\n",
       "  </thead>\n",
       "  <tbody>\n",
       "    <tr>\n",
       "      <th>0</th>\n",
       "      <td>2.987250e+13</td>\n",
       "      <td>5642903</td>\n",
       "      <td>F</td>\n",
       "      <td>2016-04-29T18:38:08Z</td>\n",
       "      <td>2016-04-29T00:00:00Z</td>\n",
       "      <td>62</td>\n",
       "      <td>JARDIM DA PENHA</td>\n",
       "      <td>0</td>\n",
       "      <td>1</td>\n",
       "      <td>0</td>\n",
       "      <td>0</td>\n",
       "      <td>0</td>\n",
       "      <td>0</td>\n",
       "      <td>No</td>\n",
       "      <td>adults</td>\n",
       "    </tr>\n",
       "    <tr>\n",
       "      <th>1</th>\n",
       "      <td>5.589978e+14</td>\n",
       "      <td>5642503</td>\n",
       "      <td>M</td>\n",
       "      <td>2016-04-29T16:08:27Z</td>\n",
       "      <td>2016-04-29T00:00:00Z</td>\n",
       "      <td>56</td>\n",
       "      <td>JARDIM DA PENHA</td>\n",
       "      <td>0</td>\n",
       "      <td>0</td>\n",
       "      <td>0</td>\n",
       "      <td>0</td>\n",
       "      <td>0</td>\n",
       "      <td>0</td>\n",
       "      <td>No</td>\n",
       "      <td>adults</td>\n",
       "    </tr>\n",
       "    <tr>\n",
       "      <th>2</th>\n",
       "      <td>4.262962e+12</td>\n",
       "      <td>5642549</td>\n",
       "      <td>F</td>\n",
       "      <td>2016-04-29T16:19:04Z</td>\n",
       "      <td>2016-04-29T00:00:00Z</td>\n",
       "      <td>62</td>\n",
       "      <td>MATA DA PRAIA</td>\n",
       "      <td>0</td>\n",
       "      <td>0</td>\n",
       "      <td>0</td>\n",
       "      <td>0</td>\n",
       "      <td>0</td>\n",
       "      <td>0</td>\n",
       "      <td>No</td>\n",
       "      <td>adults</td>\n",
       "    </tr>\n",
       "    <tr>\n",
       "      <th>3</th>\n",
       "      <td>8.679512e+11</td>\n",
       "      <td>5642828</td>\n",
       "      <td>F</td>\n",
       "      <td>2016-04-29T17:29:31Z</td>\n",
       "      <td>2016-04-29T00:00:00Z</td>\n",
       "      <td>8</td>\n",
       "      <td>PONTAL DE CAMBURI</td>\n",
       "      <td>0</td>\n",
       "      <td>0</td>\n",
       "      <td>0</td>\n",
       "      <td>0</td>\n",
       "      <td>0</td>\n",
       "      <td>0</td>\n",
       "      <td>No</td>\n",
       "      <td>children</td>\n",
       "    </tr>\n",
       "    <tr>\n",
       "      <th>4</th>\n",
       "      <td>8.841186e+12</td>\n",
       "      <td>5642494</td>\n",
       "      <td>F</td>\n",
       "      <td>2016-04-29T16:07:23Z</td>\n",
       "      <td>2016-04-29T00:00:00Z</td>\n",
       "      <td>56</td>\n",
       "      <td>JARDIM DA PENHA</td>\n",
       "      <td>0</td>\n",
       "      <td>1</td>\n",
       "      <td>1</td>\n",
       "      <td>0</td>\n",
       "      <td>0</td>\n",
       "      <td>0</td>\n",
       "      <td>No</td>\n",
       "      <td>adults</td>\n",
       "    </tr>\n",
       "  </tbody>\n",
       "</table>\n",
       "</div>"
      ],
      "text/plain": [
       "           p-id     a-id sex                 s-day                 a-day  age  \\\n",
       "0  2.987250e+13  5642903   F  2016-04-29T18:38:08Z  2016-04-29T00:00:00Z   62   \n",
       "1  5.589978e+14  5642503   M  2016-04-29T16:08:27Z  2016-04-29T00:00:00Z   56   \n",
       "2  4.262962e+12  5642549   F  2016-04-29T16:19:04Z  2016-04-29T00:00:00Z   62   \n",
       "3  8.679512e+11  5642828   F  2016-04-29T17:29:31Z  2016-04-29T00:00:00Z    8   \n",
       "4  8.841186e+12  5642494   F  2016-04-29T16:07:23Z  2016-04-29T00:00:00Z   56   \n",
       "\n",
       "               h-loc  schlr  hpr  diab  alchl  hcap  sms v-stat   age-grp  \n",
       "0    JARDIM DA PENHA      0    1     0      0     0    0     No    adults  \n",
       "1    JARDIM DA PENHA      0    0     0      0     0    0     No    adults  \n",
       "2      MATA DA PRAIA      0    0     0      0     0    0     No    adults  \n",
       "3  PONTAL DE CAMBURI      0    0     0      0     0    0     No  children  \n",
       "4    JARDIM DA PENHA      0    1     1      0     0    0     No    adults  "
      ]
     },
     "execution_count": 77,
     "metadata": {},
     "output_type": "execute_result"
    }
   ],
   "source": [
    "# create new column with age records\n",
    "df['age-grp'] = df['age']\n",
    "\n",
    "def col_int2str(df,col,num,char):\n",
    "    df.loc[df[col].isin(num), col] = char;\n",
    "    \n",
    "col_int2str(df,'age-grp',range(0,15),'children')\n",
    "col_int2str(df,'age-grp',range(15,25),'youths')\n",
    "col_int2str(df,'age-grp',range(25,65),'adults')\n",
    "col_int2str(df,'age-grp',range(65,200),'seniors')\n",
    "\n",
    "# confirm results\n",
    "df.head()"
   ]
  },
  {
   "cell_type": "markdown",
   "id": "a4832aee",
   "metadata": {},
   "source": [
    "Since our interest for this analysis will involve only the illnesses, sms, scholarship, visits, age, and age group, I'll drop the other columns to avoid distractions. "
   ]
  },
  {
   "cell_type": "code",
   "execution_count": 78,
   "id": "47ad410c",
   "metadata": {},
   "outputs": [
    {
     "data": {
      "text/html": [
       "<div>\n",
       "<style scoped>\n",
       "    .dataframe tbody tr th:only-of-type {\n",
       "        vertical-align: middle;\n",
       "    }\n",
       "\n",
       "    .dataframe tbody tr th {\n",
       "        vertical-align: top;\n",
       "    }\n",
       "\n",
       "    .dataframe thead th {\n",
       "        text-align: right;\n",
       "    }\n",
       "</style>\n",
       "<table border=\"1\" class=\"dataframe\">\n",
       "  <thead>\n",
       "    <tr style=\"text-align: right;\">\n",
       "      <th></th>\n",
       "      <th>age</th>\n",
       "      <th>schlr</th>\n",
       "      <th>hpr</th>\n",
       "      <th>diab</th>\n",
       "      <th>alchl</th>\n",
       "      <th>hcap</th>\n",
       "      <th>sms</th>\n",
       "      <th>v-stat</th>\n",
       "      <th>age-grp</th>\n",
       "    </tr>\n",
       "  </thead>\n",
       "  <tbody>\n",
       "    <tr>\n",
       "      <th>0</th>\n",
       "      <td>62</td>\n",
       "      <td>0</td>\n",
       "      <td>1</td>\n",
       "      <td>0</td>\n",
       "      <td>0</td>\n",
       "      <td>0</td>\n",
       "      <td>0</td>\n",
       "      <td>No</td>\n",
       "      <td>adults</td>\n",
       "    </tr>\n",
       "    <tr>\n",
       "      <th>1</th>\n",
       "      <td>56</td>\n",
       "      <td>0</td>\n",
       "      <td>0</td>\n",
       "      <td>0</td>\n",
       "      <td>0</td>\n",
       "      <td>0</td>\n",
       "      <td>0</td>\n",
       "      <td>No</td>\n",
       "      <td>adults</td>\n",
       "    </tr>\n",
       "    <tr>\n",
       "      <th>2</th>\n",
       "      <td>62</td>\n",
       "      <td>0</td>\n",
       "      <td>0</td>\n",
       "      <td>0</td>\n",
       "      <td>0</td>\n",
       "      <td>0</td>\n",
       "      <td>0</td>\n",
       "      <td>No</td>\n",
       "      <td>adults</td>\n",
       "    </tr>\n",
       "    <tr>\n",
       "      <th>3</th>\n",
       "      <td>8</td>\n",
       "      <td>0</td>\n",
       "      <td>0</td>\n",
       "      <td>0</td>\n",
       "      <td>0</td>\n",
       "      <td>0</td>\n",
       "      <td>0</td>\n",
       "      <td>No</td>\n",
       "      <td>children</td>\n",
       "    </tr>\n",
       "    <tr>\n",
       "      <th>4</th>\n",
       "      <td>56</td>\n",
       "      <td>0</td>\n",
       "      <td>1</td>\n",
       "      <td>1</td>\n",
       "      <td>0</td>\n",
       "      <td>0</td>\n",
       "      <td>0</td>\n",
       "      <td>No</td>\n",
       "      <td>adults</td>\n",
       "    </tr>\n",
       "  </tbody>\n",
       "</table>\n",
       "</div>"
      ],
      "text/plain": [
       "   age  schlr  hpr  diab  alchl  hcap  sms v-stat   age-grp\n",
       "0   62      0    1     0      0     0    0     No    adults\n",
       "1   56      0    0     0      0     0    0     No    adults\n",
       "2   62      0    0     0      0     0    0     No    adults\n",
       "3    8      0    0     0      0     0    0     No  children\n",
       "4   56      0    1     1      0     0    0     No    adults"
      ]
     },
     "execution_count": 78,
     "metadata": {},
     "output_type": "execute_result"
    }
   ],
   "source": [
    "# sub-df\n",
    "new_df = df.iloc[:, np.r_[5,7:15]]\n",
    "# preview \n",
    "new_df.head()"
   ]
  },
  {
   "cell_type": "code",
   "execution_count": 79,
   "id": "8165bd6c",
   "metadata": {},
   "outputs": [
    {
     "data": {
      "image/png": "[encoded data removed]",
      "text/plain": [
       "<Figure size 720x360 with 1 Axes>"
      ]
     },
     "metadata": {
      "needs_background": "light"
     },
     "output_type": "display_data"
    }
   ],
   "source": [
    "# modify plots settings globally\n",
    "import matplotlib.pylab as pylab\n",
    "params = {'legend.fontsize': 'medium',\n",
    "         'axes.labelsize': 'x-large',\n",
    "         'axes.titlesize':'x-large',\n",
    "         'xtick.labelsize':'x-large',\n",
    "         'ytick.labelsize':'x-large'}\n",
    "pylab.rcParams.update(params)\n",
    "\n",
    "# number of persons that responded to appointment by age group\n",
    "visited = new_df[new_df['v-stat'] == 'Yes']\n",
    "visited['age-grp'].value_counts().plot(kind='bar', xlabel='Age Groups',\n",
    "                                       ylabel='Number of patients that visited',\n",
    "                                      title='Age Group With Most Visits',\n",
    "                                      figsize=(10,5),\n",
    "                                      rot=0);\n"
   ]
  },
  {
   "cell_type": "code",
   "execution_count": 80,
   "id": "167332c9",
   "metadata": {},
   "outputs": [
    {
     "data": {
      "text/plain": [
       "count    6281.000000\n",
       "mean       42.964496\n",
       "std        11.261788\n",
       "min        25.000000\n",
       "25%        33.000000\n",
       "50%        42.000000\n",
       "75%        52.000000\n",
       "max        64.000000\n",
       "Name: age, dtype: float64"
      ]
     },
     "execution_count": 80,
     "metadata": {},
     "output_type": "execute_result"
    }
   ],
   "source": [
    "# adult patients who were present for their appointment\n",
    "adults_present = visited[visited['age-grp'] == 'adults']\n",
    "\n",
    "# summary statistics of their age\n",
    "adults_present['age'].describe()"
   ]
  },
  {
   "cell_type": "code",
   "execution_count": 81,
   "id": "34015a72",
   "metadata": {},
   "outputs": [
    {
     "data": {
      "image/png": "[encoded data removed]",
      "text/plain": [
       "<Figure size 432x288 with 1 Axes>"
      ]
     },
     "metadata": {
      "needs_background": "light"
     },
     "output_type": "display_data"
    }
   ],
   "source": [
    "# plot to see the distribution adults across several age range\n",
    "adults_present['age'].plot(kind='hist', bins=3, \n",
    "                          title='Distribution of Responsive Adults Across Age Range',\n",
    "                          range=(25,64));\n",
    "plt.xlabel('Age Range');"
   ]
  },
  {
   "cell_type": "markdown",
   "id": "d95ee8b4",
   "metadata": {},
   "source": [
    "From the graph above, the majority of adults who responded to their appointments were between the age of 25-38 years of age."
   ]
  },
  {
   "cell_type": "markdown",
   "id": "5a455759",
   "metadata": {},
   "source": [
    "#### Question 2: What illnesses were they most suffering from?"
   ]
  },
  {
   "cell_type": "markdown",
   "id": "864264b0",
   "metadata": {},
   "source": [
    "Subsetting the dataframe to include adults only so as to find out which illness they were most suffering from."
   ]
  },
  {
   "cell_type": "code",
   "execution_count": 82,
   "id": "f8ee9193",
   "metadata": {},
   "outputs": [
    {
     "data": {
      "image/png": "[encoded data removed]",
      "text/plain": [
       "<Figure size 648x432 with 1 Axes>"
      ]
     },
     "metadata": {
      "needs_background": "light"
     },
     "output_type": "display_data"
    },
    {
     "data": {
      "image/png": "[encoded data removed]",
      "text/plain": [
       "<Figure size 648x432 with 1 Axes>"
      ]
     },
     "metadata": {
      "needs_background": "light"
     },
     "output_type": "display_data"
    },
    {
     "data": {
      "image/png": "[encoded data removed]",
      "text/plain": [
       "<Figure size 648x432 with 1 Axes>"
      ]
     },
     "metadata": {
      "needs_background": "light"
     },
     "output_type": "display_data"
    },
    {
     "data": {
      "image/png": "[encoded data removed]",
      "text/plain": [
       "<Figure size 648x432 with 1 Axes>"
      ]
     },
     "metadata": {
      "needs_background": "light"
     },
     "output_type": "display_data"
    }
   ],
   "source": [
    "# df containing only adults\n",
    "adults = df[df['age-grp'] == 'adults']\n",
    "\n",
    "# function to plot bar charts by value counts with necessary args\n",
    "def plot_barcount(df,title):\n",
    "    df.value_counts().plot(kind='bar',\n",
    "                          xlabel='Patients Status',\n",
    "                          ylabel='Number of Adult Patients',\n",
    "                          title=title,\n",
    "                          figsize=(9,6),\n",
    "                          rot=0);\n",
    "    plt.show() # display plot\n",
    "\n",
    "# hypertensive patients\n",
    "plot_barcount(adults['hpr'],'Number of Hypertensive Adult Patients')\n",
    "\n",
    "# diabetic patients\n",
    "plot_barcount(adults['diab'],'Number of Diabetic Adult Patients')\n",
    "\n",
    "# alcoholic patients\n",
    "plot_barcount(adults['alchl'],'Number of Alcoholic Adult Patients')\n",
    "\n",
    "# handicap patients\n",
    "plot_barcount(adults['hcap'],'Number of Handicap Adult Patients')\n"
   ]
  },
  {
   "cell_type": "markdown",
   "id": "c47984da",
   "metadata": {},
   "source": [
    "<b>Rationale:</b> Most patients were hypertensive.\n"
   ]
  },
  {
   "cell_type": "markdown",
   "id": "51b0fa16",
   "metadata": {},
   "source": [
    "#### Question 3: Was it because they received text messages?"
   ]
  },
  {
   "cell_type": "markdown",
   "id": "c5e4a98f",
   "metadata": {},
   "source": [
    "Check for correllation between the SMS and Visits columns"
   ]
  },
  {
   "cell_type": "code",
   "execution_count": 83,
   "id": "aceca591",
   "metadata": {},
   "outputs": [
    {
     "data": {
      "text/html": [
       "<div>\n",
       "<style scoped>\n",
       "    .dataframe tbody tr th:only-of-type {\n",
       "        vertical-align: middle;\n",
       "    }\n",
       "\n",
       "    .dataframe tbody tr th {\n",
       "        vertical-align: top;\n",
       "    }\n",
       "\n",
       "    .dataframe thead th {\n",
       "        text-align: right;\n",
       "    }\n",
       "</style>\n",
       "<table border=\"1\" class=\"dataframe\">\n",
       "  <thead>\n",
       "    <tr style=\"text-align: right;\">\n",
       "      <th></th>\n",
       "      <th>p-id</th>\n",
       "      <th>a-id</th>\n",
       "      <th>sex</th>\n",
       "      <th>s-day</th>\n",
       "      <th>a-day</th>\n",
       "      <th>age</th>\n",
       "      <th>h-loc</th>\n",
       "      <th>schlr</th>\n",
       "      <th>hpr</th>\n",
       "      <th>diab</th>\n",
       "      <th>alchl</th>\n",
       "      <th>hcap</th>\n",
       "      <th>sms</th>\n",
       "      <th>v-stat</th>\n",
       "      <th>age-grp</th>\n",
       "    </tr>\n",
       "  </thead>\n",
       "  <tbody>\n",
       "    <tr>\n",
       "      <th>0</th>\n",
       "      <td>2.987250e+13</td>\n",
       "      <td>5642903</td>\n",
       "      <td>F</td>\n",
       "      <td>2016-04-29T18:38:08Z</td>\n",
       "      <td>2016-04-29T00:00:00Z</td>\n",
       "      <td>62</td>\n",
       "      <td>JARDIM DA PENHA</td>\n",
       "      <td>0</td>\n",
       "      <td>1</td>\n",
       "      <td>0</td>\n",
       "      <td>0</td>\n",
       "      <td>0</td>\n",
       "      <td>0</td>\n",
       "      <td>0</td>\n",
       "      <td>adults</td>\n",
       "    </tr>\n",
       "    <tr>\n",
       "      <th>1</th>\n",
       "      <td>5.589978e+14</td>\n",
       "      <td>5642503</td>\n",
       "      <td>M</td>\n",
       "      <td>2016-04-29T16:08:27Z</td>\n",
       "      <td>2016-04-29T00:00:00Z</td>\n",
       "      <td>56</td>\n",
       "      <td>JARDIM DA PENHA</td>\n",
       "      <td>0</td>\n",
       "      <td>0</td>\n",
       "      <td>0</td>\n",
       "      <td>0</td>\n",
       "      <td>0</td>\n",
       "      <td>0</td>\n",
       "      <td>0</td>\n",
       "      <td>adults</td>\n",
       "    </tr>\n",
       "    <tr>\n",
       "      <th>2</th>\n",
       "      <td>4.262962e+12</td>\n",
       "      <td>5642549</td>\n",
       "      <td>F</td>\n",
       "      <td>2016-04-29T16:19:04Z</td>\n",
       "      <td>2016-04-29T00:00:00Z</td>\n",
       "      <td>62</td>\n",
       "      <td>MATA DA PRAIA</td>\n",
       "      <td>0</td>\n",
       "      <td>0</td>\n",
       "      <td>0</td>\n",
       "      <td>0</td>\n",
       "      <td>0</td>\n",
       "      <td>0</td>\n",
       "      <td>0</td>\n",
       "      <td>adults</td>\n",
       "    </tr>\n",
       "    <tr>\n",
       "      <th>4</th>\n",
       "      <td>8.841186e+12</td>\n",
       "      <td>5642494</td>\n",
       "      <td>F</td>\n",
       "      <td>2016-04-29T16:07:23Z</td>\n",
       "      <td>2016-04-29T00:00:00Z</td>\n",
       "      <td>56</td>\n",
       "      <td>JARDIM DA PENHA</td>\n",
       "      <td>0</td>\n",
       "      <td>1</td>\n",
       "      <td>1</td>\n",
       "      <td>0</td>\n",
       "      <td>0</td>\n",
       "      <td>0</td>\n",
       "      <td>0</td>\n",
       "      <td>adults</td>\n",
       "    </tr>\n",
       "    <tr>\n",
       "      <th>7</th>\n",
       "      <td>3.449833e+12</td>\n",
       "      <td>5630575</td>\n",
       "      <td>F</td>\n",
       "      <td>2016-04-27T15:39:58Z</td>\n",
       "      <td>2016-04-29T00:00:00Z</td>\n",
       "      <td>39</td>\n",
       "      <td>GOIABEIRAS</td>\n",
       "      <td>0</td>\n",
       "      <td>0</td>\n",
       "      <td>0</td>\n",
       "      <td>0</td>\n",
       "      <td>0</td>\n",
       "      <td>0</td>\n",
       "      <td>1</td>\n",
       "      <td>adults</td>\n",
       "    </tr>\n",
       "  </tbody>\n",
       "</table>\n",
       "</div>"
      ],
      "text/plain": [
       "           p-id     a-id sex                 s-day                 a-day  age  \\\n",
       "0  2.987250e+13  5642903   F  2016-04-29T18:38:08Z  2016-04-29T00:00:00Z   62   \n",
       "1  5.589978e+14  5642503   M  2016-04-29T16:08:27Z  2016-04-29T00:00:00Z   56   \n",
       "2  4.262962e+12  5642549   F  2016-04-29T16:19:04Z  2016-04-29T00:00:00Z   62   \n",
       "4  8.841186e+12  5642494   F  2016-04-29T16:07:23Z  2016-04-29T00:00:00Z   56   \n",
       "7  3.449833e+12  5630575   F  2016-04-27T15:39:58Z  2016-04-29T00:00:00Z   39   \n",
       "\n",
       "             h-loc  schlr  hpr  diab  alchl  hcap  sms v-stat age-grp  \n",
       "0  JARDIM DA PENHA      0    1     0      0     0    0      0  adults  \n",
       "1  JARDIM DA PENHA      0    0     0      0     0    0      0  adults  \n",
       "2    MATA DA PRAIA      0    0     0      0     0    0      0  adults  \n",
       "4  JARDIM DA PENHA      0    1     1      0     0    0      0  adults  \n",
       "7       GOIABEIRAS      0    0     0      0     0    0      1  adults  "
      ]
     },
     "metadata": {},
     "output_type": "display_data"
    },
    {
     "data": {
      "image/png": "[encoded data removed]",
      "text/plain": [
       "<Figure size 1080x1080 with 81 Axes>"
      ]
     },
     "metadata": {
      "needs_background": "light"
     },
     "output_type": "display_data"
    },
    {
     "data": {
      "image/png": "[encoded data removed]",
      "text/plain": [
       "<Figure size 432x288 with 1 Axes>"
      ]
     },
     "metadata": {
      "needs_background": "light"
     },
     "output_type": "display_data"
    }
   ],
   "source": [
    "# sub-df for adults with numeric values for visits\n",
    "adult_num_visit= df[df['age-grp'] == 'adults']\n",
    "\n",
    "# change visit status to numerical values\n",
    "adult_num_visit.loc[df['v-stat'] == 'Yes', 'v-stat'] = 1\n",
    "adult_num_visit.loc[df['v-stat'] == 'No', 'v-stat'] = 0\n",
    "\n",
    "display(adult_num_visit.head())\n",
    "\n",
    "# check for general correlation\n",
    "pd.plotting.scatter_matrix(adult_num_visit, figsize = (15,15));\n",
    "\n",
    "# check for correlation between text msgs sent and visit status\n",
    "adult_num_visit.plot.scatter(x='sms', y='v-stat');\n"
   ]
  },
  {
   "cell_type": "markdown",
   "id": "00559f45",
   "metadata": {},
   "source": [
    "There seem to be no correlation between the sms and visit columns"
   ]
  },
  {
   "cell_type": "code",
   "execution_count": 84,
   "id": "2176d490",
   "metadata": {},
   "outputs": [
    {
     "data": {
      "image/png": "[encoded data removed]",
      "text/plain": [
       "<Figure size 936x360 with 1 Axes>"
      ]
     },
     "metadata": {
      "needs_background": "light"
     },
     "output_type": "display_data"
    }
   ],
   "source": [
    " adults.groupby('age-grp')[['sms','v-stat']].value_counts().plot(kind='bar', rot=0, figsize=(13,5),\n",
    "                    xlabel='SMS and Visit Status of Patient', ylabel='Number of Patients',\n",
    "                        title='Relationship Between Patients Visit Status And Message Sent');"
   ]
  },
  {
   "cell_type": "markdown",
   "id": "e3734df0",
   "metadata": {},
   "source": [
    "Most adult patients who received text messages did not respond to their appointment"
   ]
  },
  {
   "cell_type": "markdown",
   "id": "1421251a",
   "metadata": {},
   "source": [
    "#### Question 4: Was their enrollment in the scholarship a contributing factor to their responsives?"
   ]
  },
  {
   "cell_type": "code",
   "execution_count": 85,
   "id": "b53270b7",
   "metadata": {},
   "outputs": [
    {
     "data": {
      "image/png": "[encoded data removed]",
      "text/plain": [
       "<Figure size 720x360 with 1 Axes>"
      ]
     },
     "metadata": {
      "needs_background": "light"
     },
     "output_type": "display_data"
    }
   ],
   "source": [
    "# sub-df of adults who visited\n",
    "visited_adults = visited[visited['age-grp'] == 'adults']\n",
    "\n",
    "# silent chain assigment warning\n",
    "pd.options.mode.chained_assignment = None\n",
    "\n",
    "# change variable type of scholarship column to make it ideal for plot\n",
    "visited_adults.loc[visited_adults['schlr'] == 0, 'schlr'] = 'Enrolled'\n",
    "visited_adults.loc[visited_adults['schlr'] == 1, 'schlr'] = 'Not Enrolled'\n",
    "\n",
    "# bar plot to see relationship between scholarship and visits\n",
    "visited_adults.schlr.value_counts().plot(kind='bar', rot=0, xlabel='Scholarship Status',\n",
    "                                ylabel='Number of Adult Patients', \n",
    "                title='Responsive Adult Patients vs Scholarship Status',\n",
    "                    figsize=(10,5));"
   ]
  },
  {
   "cell_type": "markdown",
   "id": "c78c8bc6",
   "metadata": {},
   "source": [
    "<b> Rationale: </b> Adults who visited were not enrolled in the scholarship program."
   ]
  },
  {
   "cell_type": "markdown",
   "id": "af5f6cc2",
   "metadata": {},
   "source": [
    "<a id='conclusion'></a>\n",
    "# CONCLUSIONS"
   ]
  },
  {
   "cell_type": "markdown",
   "id": "6649d624",
   "metadata": {},
   "source": [
    "<ol><li> Adults between the age range of 25 years to 65 years old were most responsive to their appointments. With the majority being between 25-38 years of age.</li>\n",
    "    <li> Most adults suffered from hypertension and those within this category seemed to be more concerned about their health than others as they were most responsive to their appointments. </li><li> Text message reminders as well as enrollment in the scholarship program did not have any impact in the responsiveness of those who visited on the day of their appointment.</li></ol>\n",
    "    \n",
    "<b>Limitations:</b><ul><li>There was a negative value amongst the age records.</li>\n",
    "    <li>There was some spelling errors with the column names.</li>\n",
    "    <li>Records for the <b>handicap</b> column were not properly explained. Created some ambiguity.</li>"
   ]
  }
 ],
 "metadata": {
  "kernelspec": {
   "display_name": "Python 3 (ipykernel)",
   "language": "python",
   "name": "python3"
  },
  "language_info": {
   "codemirror_mode": {
    "name": "ipython",
    "version": 3
   },
   "file_extension": ".py",
   "mimetype": "text/x-python",
   "name": "python",
   "nbconvert_exporter": "python",
   "pygments_lexer": "ipython3",
   "version": "3.9.0"
  }
 },
 "nbformat": 4,
 "nbformat_minor": 5
}
